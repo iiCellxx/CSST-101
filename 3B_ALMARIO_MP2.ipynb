{
  "nbformat": 4,
  "nbformat_minor": 0,
  "metadata": {
    "colab": {
      "provenance": []
    },
    "kernelspec": {
      "name": "python3",
      "display_name": "Python 3"
    },
    "language_info": {
      "name": "python"
    }
  },
  "cells": [
    {
      "cell_type": "markdown",
      "source": [
        "# 1. Propositional Logic Operations"
      ],
      "metadata": {
        "id": "whSL1l3gyHRU"
      }
    },
    {
      "cell_type": "code",
      "execution_count": 1,
      "metadata": {
        "colab": {
          "base_uri": "https://localhost:8080/"
        },
        "id": "Iauk4CgNyBU6",
        "outputId": "c804fa85-8b02-4510-d549-395ca9719ef0"
      },
      "outputs": [
        {
          "output_type": "stream",
          "name": "stdout",
          "text": [
            "AND operation: False\n",
            "OR operation: True\n",
            "NOT operation: False\n",
            "IMPLIES operation: False\n"
          ]
        }
      ],
      "source": [
        "# Define propositional logic operations\n",
        "\n",
        "def and_operation(p, q):\n",
        "    \"\"\"Logical conjunction (AND)\"\"\"\n",
        "    return p and q\n",
        "\n",
        "def or_operation(p, q):\n",
        "    \"\"\"Logical disjunction (OR)\"\"\"\n",
        "    return p or q\n",
        "\n",
        "def not_operation(p):\n",
        "    \"\"\"Logical negation (NOT)\"\"\"\n",
        "    return not p\n",
        "\n",
        "def implies_operation(p, q):\n",
        "    \"\"\"Logical implication (IMPLIES)\"\"\"\n",
        "    return not p or q\n",
        "\n",
        "# Example usage\n",
        "p = True\n",
        "q = False\n",
        "\n",
        "print(f\"AND operation: {and_operation(p, q)}\")  # Output: False\n",
        "print(f\"OR operation: {or_operation(p, q)}\")   # Output: True\n",
        "print(f\"NOT operation: {not_operation(p)}\")    # Output: False\n",
        "print(f\"IMPLIES operation: {implies_operation(p, q)}\")  # Output: False\n"
      ]
    },
    {
      "cell_type": "markdown",
      "source": [
        "# 2. Evaluate Logical Statements"
      ],
      "metadata": {
        "id": "MGV1Vj5KyNn7"
      }
    },
    {
      "cell_type": "code",
      "source": [
        "# Evaluate logical statements\n",
        "\n",
        "def evaluate(statement, values):\n",
        "    \"\"\"\n",
        "    Evaluate a logical statement based on the given values.\n",
        "\n",
        "    Args:\n",
        "    statement (str): Logical statement to evaluate (e.g., \"p and q\").\n",
        "    values (dict): Dictionary mapping propositions to their truth values.\n",
        "\n",
        "    Returns:\n",
        "    bool: The truth value of the statement.\n",
        "    \"\"\"\n",
        "    # Replace variables in the statement with their truth values\n",
        "    for var, val in values.items():\n",
        "        statement = statement.replace(var, str(val))\n",
        "\n",
        "    # Evaluate the logical statement\n",
        "    return eval(statement)\n",
        "\n",
        "# Example usage\n",
        "statement = \"p and q\"\n",
        "values = {\"p\": True, \"q\": False}\n",
        "\n",
        "print(f\"Evaluation result: {evaluate(statement, values)}\")  # Output: False\n"
      ],
      "metadata": {
        "colab": {
          "base_uri": "https://localhost:8080/"
        },
        "id": "fHt5vYJOyPEE",
        "outputId": "54906dfe-1089-44e9-d9f4-aead98481125"
      },
      "execution_count": 2,
      "outputs": [
        {
          "output_type": "stream",
          "name": "stdout",
          "text": [
            "Evaluation result: False\n"
          ]
        }
      ]
    },
    {
      "cell_type": "markdown",
      "source": [
        "# 3. Extend to Predicate Logic"
      ],
      "metadata": {
        "id": "SZbVeGuLyQ3a"
      }
    },
    {
      "cell_type": "code",
      "source": [
        "# Predicate logic functions\n",
        "\n",
        "def forall(predicate, domain):\n",
        "    \"\"\"\n",
        "    Universal quantifier (FOR ALL).\n",
        "\n",
        "    Args:\n",
        "    predicate (function): A function that takes an element of the domain and returns a boolean.\n",
        "    domain (list): A list of elements to test the predicate against.\n",
        "\n",
        "    Returns:\n",
        "    bool: True if predicate holds for all elements in the domain, False otherwise.\n",
        "    \"\"\"\n",
        "    return all(predicate(x) for x in domain)\n",
        "\n",
        "def exists(predicate, domain):\n",
        "    \"\"\"\n",
        "    Existential quantifier (EXISTS).\n",
        "\n",
        "    Args:\n",
        "    predicate (function): A function that takes an element of the domain and returns a boolean.\n",
        "    domain (list): A list of elements to test the predicate against.\n",
        "\n",
        "    Returns:\n",
        "    bool: True if predicate holds for at least one element in the domain, False otherwise.\n",
        "    \"\"\"\n",
        "    return any(predicate(x) for x in domain)\n",
        "\n",
        "# Example usage\n",
        "domain = [1, 2, 3, 4, 5]\n",
        "\n",
        "# Predicate functions\n",
        "is_even = lambda x: x % 2 == 0\n",
        "is_positive = lambda x: x > 0\n",
        "\n",
        "print(f\"FOR ALL is_even: {forall(is_even, domain)}\")  # Output: False\n",
        "print(f\"EXISTS is_even: {exists(is_even, domain)}\")    # Output: True\n"
      ],
      "metadata": {
        "colab": {
          "base_uri": "https://localhost:8080/"
        },
        "id": "J2-qs0qByT8b",
        "outputId": "10704d5b-c69c-4728-a7d5-fb9465d05507"
      },
      "execution_count": 3,
      "outputs": [
        {
          "output_type": "stream",
          "name": "stdout",
          "text": [
            "FOR ALL is_even: False\n",
            "EXISTS is_even: True\n"
          ]
        }
      ]
    },
    {
      "cell_type": "markdown",
      "source": [
        "# 4. AI Agent Development\n"
      ],
      "metadata": {
        "id": "j_rEHQGCyWJK"
      }
    },
    {
      "cell_type": "code",
      "source": [
        "# Define the scenario and decision-making logic\n",
        "\n",
        "class SimpleAI:\n",
        "    def __init__(self, condition):\n",
        "        self.condition = condition\n",
        "\n",
        "    def decide(self):\n",
        "        \"\"\"\n",
        "        Make a decision based on the condition.\n",
        "        \"\"\"\n",
        "        if self.condition:\n",
        "            return \"Action A\"\n",
        "        else:\n",
        "            return \"Action B\"\n",
        "\n",
        "# Example usage\n",
        "condition = and_operation(True, not_operation(False))  # Condition for the AI agent\n",
        "agent = SimpleAI(condition)\n",
        "\n",
        "print(f\"AI Decision: {agent.decide()}\")  # Output: Action A\n"
      ],
      "metadata": {
        "colab": {
          "base_uri": "https://localhost:8080/"
        },
        "id": "6yZJXQd0yZOq",
        "outputId": "1771ce6a-de2d-4290-977e-481af4bb6ec0"
      },
      "execution_count": 4,
      "outputs": [
        {
          "output_type": "stream",
          "name": "stdout",
          "text": [
            "AI Decision: Action A\n"
          ]
        }
      ]
    }
  ]
}