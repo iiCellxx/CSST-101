{
  "nbformat": 4,
  "nbformat_minor": 0,
  "metadata": {
    "colab": {
      "provenance": []
    },
    "kernelspec": {
      "name": "python3",
      "display_name": "Python 3"
    },
    "language_info": {
      "name": "python"
    }
  },
  "cells": [
    {
      "cell_type": "markdown",
      "source": [
        "Cel Rick D. Almario From BSCS 3B"
      ],
      "metadata": {
        "id": "wpiBe_N6vbNY"
      }
    },
    {
      "cell_type": "markdown",
      "source": [
        "# Topic 2.2: Bayesian Networks\n",
        "Implementation of Bayesian Networks in Google Colab\n",
        "Exercise 1: Setting Up the Environment\n",
        "1. Install the Required Library:\n",
        "• Start by installing pgmpy in your Google Colab environment."
      ],
      "metadata": {
        "id": "kI4Vxe6_uIdY"
      }
    },
    {
      "cell_type": "code",
      "execution_count": 1,
      "metadata": {
        "colab": {
          "base_uri": "https://localhost:8080/"
        },
        "collapsed": true,
        "id": "Guh9ggLXr7oK",
        "outputId": "d53752a2-c9bf-4d0f-d8da-413968b4605f"
      },
      "outputs": [
        {
          "output_type": "stream",
          "name": "stdout",
          "text": [
            "Collecting pgmpy\n",
            "  Downloading pgmpy-0.1.26-py3-none-any.whl.metadata (9.1 kB)\n",
            "Requirement already satisfied: networkx in /usr/local/lib/python3.10/dist-packages (from pgmpy) (3.3)\n",
            "Requirement already satisfied: numpy in /usr/local/lib/python3.10/dist-packages (from pgmpy) (1.26.4)\n",
            "Requirement already satisfied: scipy in /usr/local/lib/python3.10/dist-packages (from pgmpy) (1.13.1)\n",
            "Requirement already satisfied: scikit-learn in /usr/local/lib/python3.10/dist-packages (from pgmpy) (1.5.2)\n",
            "Requirement already satisfied: pandas in /usr/local/lib/python3.10/dist-packages (from pgmpy) (2.1.4)\n",
            "Requirement already satisfied: pyparsing in /usr/local/lib/python3.10/dist-packages (from pgmpy) (3.1.4)\n",
            "Requirement already satisfied: torch in /usr/local/lib/python3.10/dist-packages (from pgmpy) (2.4.1+cu121)\n",
            "Requirement already satisfied: statsmodels in /usr/local/lib/python3.10/dist-packages (from pgmpy) (0.14.3)\n",
            "Requirement already satisfied: tqdm in /usr/local/lib/python3.10/dist-packages (from pgmpy) (4.66.5)\n",
            "Requirement already satisfied: joblib in /usr/local/lib/python3.10/dist-packages (from pgmpy) (1.4.2)\n",
            "Requirement already satisfied: opt-einsum in /usr/local/lib/python3.10/dist-packages (from pgmpy) (3.3.0)\n",
            "Requirement already satisfied: xgboost in /usr/local/lib/python3.10/dist-packages (from pgmpy) (2.1.1)\n",
            "Requirement already satisfied: google-generativeai in /usr/local/lib/python3.10/dist-packages (from pgmpy) (0.7.2)\n",
            "Requirement already satisfied: google-ai-generativelanguage==0.6.6 in /usr/local/lib/python3.10/dist-packages (from google-generativeai->pgmpy) (0.6.6)\n",
            "Requirement already satisfied: google-api-core in /usr/local/lib/python3.10/dist-packages (from google-generativeai->pgmpy) (2.19.2)\n",
            "Requirement already satisfied: google-api-python-client in /usr/local/lib/python3.10/dist-packages (from google-generativeai->pgmpy) (2.137.0)\n",
            "Requirement already satisfied: google-auth>=2.15.0 in /usr/local/lib/python3.10/dist-packages (from google-generativeai->pgmpy) (2.27.0)\n",
            "Requirement already satisfied: protobuf in /usr/local/lib/python3.10/dist-packages (from google-generativeai->pgmpy) (3.20.3)\n",
            "Requirement already satisfied: pydantic in /usr/local/lib/python3.10/dist-packages (from google-generativeai->pgmpy) (2.9.2)\n",
            "Requirement already satisfied: typing-extensions in /usr/local/lib/python3.10/dist-packages (from google-generativeai->pgmpy) (4.12.2)\n",
            "Requirement already satisfied: proto-plus<2.0.0dev,>=1.22.3 in /usr/local/lib/python3.10/dist-packages (from google-ai-generativelanguage==0.6.6->google-generativeai->pgmpy) (1.24.0)\n",
            "Requirement already satisfied: python-dateutil>=2.8.2 in /usr/local/lib/python3.10/dist-packages (from pandas->pgmpy) (2.8.2)\n",
            "Requirement already satisfied: pytz>=2020.1 in /usr/local/lib/python3.10/dist-packages (from pandas->pgmpy) (2024.2)\n",
            "Requirement already satisfied: tzdata>=2022.1 in /usr/local/lib/python3.10/dist-packages (from pandas->pgmpy) (2024.1)\n",
            "Requirement already satisfied: threadpoolctl>=3.1.0 in /usr/local/lib/python3.10/dist-packages (from scikit-learn->pgmpy) (3.5.0)\n",
            "Requirement already satisfied: patsy>=0.5.6 in /usr/local/lib/python3.10/dist-packages (from statsmodels->pgmpy) (0.5.6)\n",
            "Requirement already satisfied: packaging>=21.3 in /usr/local/lib/python3.10/dist-packages (from statsmodels->pgmpy) (24.1)\n",
            "Requirement already satisfied: filelock in /usr/local/lib/python3.10/dist-packages (from torch->pgmpy) (3.16.1)\n",
            "Requirement already satisfied: sympy in /usr/local/lib/python3.10/dist-packages (from torch->pgmpy) (1.13.3)\n",
            "Requirement already satisfied: jinja2 in /usr/local/lib/python3.10/dist-packages (from torch->pgmpy) (3.1.4)\n",
            "Requirement already satisfied: fsspec in /usr/local/lib/python3.10/dist-packages (from torch->pgmpy) (2024.6.1)\n",
            "Requirement already satisfied: nvidia-nccl-cu12 in /usr/local/lib/python3.10/dist-packages (from xgboost->pgmpy) (2.23.4)\n",
            "Requirement already satisfied: googleapis-common-protos<2.0.dev0,>=1.56.2 in /usr/local/lib/python3.10/dist-packages (from google-api-core->google-generativeai->pgmpy) (1.65.0)\n",
            "Requirement already satisfied: requests<3.0.0.dev0,>=2.18.0 in /usr/local/lib/python3.10/dist-packages (from google-api-core->google-generativeai->pgmpy) (2.32.3)\n",
            "Requirement already satisfied: cachetools<6.0,>=2.0.0 in /usr/local/lib/python3.10/dist-packages (from google-auth>=2.15.0->google-generativeai->pgmpy) (5.5.0)\n",
            "Requirement already satisfied: pyasn1-modules>=0.2.1 in /usr/local/lib/python3.10/dist-packages (from google-auth>=2.15.0->google-generativeai->pgmpy) (0.4.1)\n",
            "Requirement already satisfied: rsa<5,>=3.1.4 in /usr/local/lib/python3.10/dist-packages (from google-auth>=2.15.0->google-generativeai->pgmpy) (4.9)\n",
            "Requirement already satisfied: six in /usr/local/lib/python3.10/dist-packages (from patsy>=0.5.6->statsmodels->pgmpy) (1.16.0)\n",
            "Requirement already satisfied: httplib2<1.dev0,>=0.19.0 in /usr/local/lib/python3.10/dist-packages (from google-api-python-client->google-generativeai->pgmpy) (0.22.0)\n",
            "Requirement already satisfied: google-auth-httplib2<1.0.0,>=0.2.0 in /usr/local/lib/python3.10/dist-packages (from google-api-python-client->google-generativeai->pgmpy) (0.2.0)\n",
            "Requirement already satisfied: uritemplate<5,>=3.0.1 in /usr/local/lib/python3.10/dist-packages (from google-api-python-client->google-generativeai->pgmpy) (4.1.1)\n",
            "Requirement already satisfied: MarkupSafe>=2.0 in /usr/local/lib/python3.10/dist-packages (from jinja2->torch->pgmpy) (2.1.5)\n",
            "Requirement already satisfied: annotated-types>=0.6.0 in /usr/local/lib/python3.10/dist-packages (from pydantic->google-generativeai->pgmpy) (0.7.0)\n",
            "Requirement already satisfied: pydantic-core==2.23.4 in /usr/local/lib/python3.10/dist-packages (from pydantic->google-generativeai->pgmpy) (2.23.4)\n",
            "Requirement already satisfied: mpmath<1.4,>=1.1.0 in /usr/local/lib/python3.10/dist-packages (from sympy->torch->pgmpy) (1.3.0)\n",
            "Requirement already satisfied: grpcio<2.0dev,>=1.33.2 in /usr/local/lib/python3.10/dist-packages (from google-api-core[grpc]!=2.0.*,!=2.1.*,!=2.10.*,!=2.2.*,!=2.3.*,!=2.4.*,!=2.5.*,!=2.6.*,!=2.7.*,!=2.8.*,!=2.9.*,<3.0.0dev,>=1.34.1->google-ai-generativelanguage==0.6.6->google-generativeai->pgmpy) (1.64.1)\n",
            "Requirement already satisfied: grpcio-status<2.0.dev0,>=1.33.2 in /usr/local/lib/python3.10/dist-packages (from google-api-core[grpc]!=2.0.*,!=2.1.*,!=2.10.*,!=2.2.*,!=2.3.*,!=2.4.*,!=2.5.*,!=2.6.*,!=2.7.*,!=2.8.*,!=2.9.*,<3.0.0dev,>=1.34.1->google-ai-generativelanguage==0.6.6->google-generativeai->pgmpy) (1.48.2)\n",
            "Requirement already satisfied: pyasn1<0.7.0,>=0.4.6 in /usr/local/lib/python3.10/dist-packages (from pyasn1-modules>=0.2.1->google-auth>=2.15.0->google-generativeai->pgmpy) (0.6.1)\n",
            "Requirement already satisfied: charset-normalizer<4,>=2 in /usr/local/lib/python3.10/dist-packages (from requests<3.0.0.dev0,>=2.18.0->google-api-core->google-generativeai->pgmpy) (3.3.2)\n",
            "Requirement already satisfied: idna<4,>=2.5 in /usr/local/lib/python3.10/dist-packages (from requests<3.0.0.dev0,>=2.18.0->google-api-core->google-generativeai->pgmpy) (3.10)\n",
            "Requirement already satisfied: urllib3<3,>=1.21.1 in /usr/local/lib/python3.10/dist-packages (from requests<3.0.0.dev0,>=2.18.0->google-api-core->google-generativeai->pgmpy) (2.2.3)\n",
            "Requirement already satisfied: certifi>=2017.4.17 in /usr/local/lib/python3.10/dist-packages (from requests<3.0.0.dev0,>=2.18.0->google-api-core->google-generativeai->pgmpy) (2024.8.30)\n",
            "Downloading pgmpy-0.1.26-py3-none-any.whl (2.0 MB)\n",
            "\u001b[2K   \u001b[90m━━━━━━━━━━━━━━━━━━━━━━━━━━━━━━━━━━━━━━━━\u001b[0m \u001b[32m2.0/2.0 MB\u001b[0m \u001b[31m7.7 MB/s\u001b[0m eta \u001b[36m0:00:00\u001b[0m\n",
            "\u001b[?25hInstalling collected packages: pgmpy\n",
            "Successfully installed pgmpy-0.1.26\n"
          ]
        }
      ],
      "source": [
        "!pip install pgmpy"
      ]
    },
    {
      "cell_type": "markdown",
      "source": [
        "# 2. Import Libraries:\n",
        "• Import the necessary libraries"
      ],
      "metadata": {
        "id": "op_dyKFWuM5B"
      }
    },
    {
      "cell_type": "code",
      "source": [
        "import numpy as np\n",
        "import pandas as pd\n",
        "from pgmpy.models import BayesianModel\n",
        "from pgmpy.inference import VariableElimination\n",
        "from pgmpy.inference import BeliefPropagation\n",
        "from pgmpy.factors.discrete import TabularCPD\n",
        "from pgmpy.factors.discrete import TabularCPD"
      ],
      "metadata": {
        "id": "LidK4njQsRAN"
      },
      "execution_count": 3,
      "outputs": []
    },
    {
      "cell_type": "markdown",
      "source": [
        "# Exercise 2: Building a Simple Bayesian Network\n",
        "1. Define the Structure:\n",
        "• Create a Bayesian Network for the following variables: Weather (Sunny, Rainy),\n",
        "Traffic (Light, Heavy), and Late (On Time, Late). Define the relationships:\n",
        "o Traffic depends on Weather.\n",
        "o Late depends on Traffic."
      ],
      "metadata": {
        "id": "3wVUaM-HuQGT"
      }
    },
    {
      "cell_type": "code",
      "source": [
        "# Define the structure of the Bayesian Network\n",
        "model = BayesianModel([('Weather', 'Traffic'), ('Traffic', 'Late')])\n"
      ],
      "metadata": {
        "colab": {
          "base_uri": "https://localhost:8080/"
        },
        "id": "9IRkxDZFtFQp",
        "outputId": "fc4558b1-abd4-454a-92ec-8243c3b6edeb"
      },
      "execution_count": 4,
      "outputs": [
        {
          "output_type": "stream",
          "name": "stderr",
          "text": [
            "WARNING:pgmpy:BayesianModel has been renamed to BayesianNetwork. Please use BayesianNetwork class, BayesianModel will be removed in future.\n"
          ]
        }
      ]
    },
    {
      "cell_type": "markdown",
      "source": [
        "# 2. Define Conditional Probability Tables (CPTs):\n",
        "• Use TabularCPD to define the CPDs for each variable"
      ],
      "metadata": {
        "id": "wo2BHAKhuTpz"
      }
    },
    {
      "cell_type": "code",
      "source": [
        "from pgmpy.factors.discrete import TabularCPD\n",
        "from pgmpy.models import BayesianNetwork\n",
        "\n",
        "# Create a Bayesian Model\n",
        "model = BayesianNetwork([('Weather', 'Traffic'), ('Traffic', 'Late')])\n",
        "\n",
        "# Weather CPD\n",
        "cpd_weather = TabularCPD(variable=\"Weather\", variable_card=2, values=[[0.7], [0.3]])\n",
        "\n",
        "# Traffic CPD given Weather\n",
        "cpd_traffic = TabularCPD(\n",
        "    variable=\"Traffic\", variable_card=2,\n",
        "    values=[[0.9, 0.5], [0.1, 0.5]],\n",
        "    evidence=[\"Weather\"], evidence_card=[2]\n",
        ")\n",
        "\n",
        "# Late CPD given Traffic\n",
        "cpd_late = TabularCPD(\n",
        "    variable=\"Late\", variable_card=2,\n",
        "    values=[[0.95, 0.8], [0.05, 0.2]],\n",
        "    evidence=[\"Traffic\"], evidence_card=[2]\n",
        ")\n",
        "\n",
        "# Add CPDs to the model\n",
        "model.add_cpds(cpd_weather, cpd_traffic, cpd_late)\n",
        "\n",
        "# Check if the model is valid\n",
        "assert model.check_model()\n",
        "\n",
        "# Print the CPDs\n",
        "for cpd in model.get_cpds():\n",
        "    print(cpd)\n"
      ],
      "metadata": {
        "colab": {
          "base_uri": "https://localhost:8080/"
        },
        "id": "zsKZZA8evvpl",
        "outputId": "da1ded86-01c6-402d-ad0e-3ed58577e921"
      },
      "execution_count": 16,
      "outputs": [
        {
          "output_type": "stream",
          "name": "stdout",
          "text": [
            "+------------+-----+\n",
            "| Weather(0) | 0.7 |\n",
            "+------------+-----+\n",
            "| Weather(1) | 0.3 |\n",
            "+------------+-----+\n",
            "+------------+------------+------------+\n",
            "| Weather    | Weather(0) | Weather(1) |\n",
            "+------------+------------+------------+\n",
            "| Traffic(0) | 0.9        | 0.5        |\n",
            "+------------+------------+------------+\n",
            "| Traffic(1) | 0.1        | 0.5        |\n",
            "+------------+------------+------------+\n",
            "+---------+------------+------------+\n",
            "| Traffic | Traffic(0) | Traffic(1) |\n",
            "+---------+------------+------------+\n",
            "| Late(0) | 0.95       | 0.8        |\n",
            "+---------+------------+------------+\n",
            "| Late(1) | 0.05       | 0.2        |\n",
            "+---------+------------+------------+\n"
          ]
        }
      ]
    },
    {
      "cell_type": "markdown",
      "source": [
        "# Exercise 3: Querying the Bayesian Network\n",
        "1. Perform Exact Inference:\n",
        "o Use the variable elimination method to determine the probability of being\n",
        "Late given that it is Rainy."
      ],
      "metadata": {
        "id": "jjQ_Y-5luXQN"
      }
    },
    {
      "cell_type": "code",
      "source": [
        "from pgmpy.inference import VariableElimination\n",
        "\n",
        "# Create an Inference object\n",
        "inference = VariableElimination(model)\n",
        "\n",
        "# Query the probability of being late given that Weather is Rainy\n",
        "result = inference.query(variables=['Late'], evidence={'Weather': 1})  # 1 corresponds to Rainy\n",
        "\n",
        "print(result)\n"
      ],
      "metadata": {
        "colab": {
          "base_uri": "https://localhost:8080/"
        },
        "id": "gG2xfAGPtw1t",
        "outputId": "b585e7cf-ad8f-4b3c-bb3f-9910846e68b6"
      },
      "execution_count": 8,
      "outputs": [
        {
          "output_type": "stream",
          "name": "stderr",
          "text": [
            "WARNING:pgmpy:BayesianModel has been renamed to BayesianNetwork. Please use BayesianNetwork class, BayesianModel will be removed in future.\n",
            "WARNING:pgmpy:BayesianModel has been renamed to BayesianNetwork. Please use BayesianNetwork class, BayesianModel will be removed in future.\n"
          ]
        },
        {
          "output_type": "stream",
          "name": "stdout",
          "text": [
            "+---------+-------------+\n",
            "| Late    |   phi(Late) |\n",
            "+=========+=============+\n",
            "| Late(0) |      0.8750 |\n",
            "+---------+-------------+\n",
            "| Late(1) |      0.1250 |\n",
            "+---------+-------------+\n"
          ]
        }
      ]
    },
    {
      "cell_type": "markdown",
      "source": [
        "# Exercise 4: Parameter Learning\n",
        "1. Simulate a Dataset:\n",
        "o Create a synthetic dataset of observations for Weather, Traffic, and Late."
      ],
      "metadata": {
        "id": "BUNdqG5wuan0"
      }
    },
    {
      "cell_type": "code",
      "source": [
        "import numpy as np\n",
        "import pandas as pd\n",
        "\n",
        "# Create a synthetic dataset\n",
        "# 0 for Sunny, 1 for Rainy\n",
        "data = pd.DataFrame({\n",
        "    'Weather': np.random.choice([0, 1], size=1000, p=[0.8, 0.2]),\n",
        "    'Traffic': np.nan,\n",
        "    'Late': np.nan\n",
        "})\n",
        "\n",
        "# Fill Traffic based on Weather\n",
        "data.loc[data['Weather'] == 0, 'Traffic'] = np.random.choice([0, 1], size=data[data['Weather'] == 0].shape[0], p=[0.9, 0.1])\n",
        "data.loc[data['Weather'] == 1, 'Traffic'] = np.random.choice([0, 1], size=data[data['Weather'] == 1].shape[0], p=[0.5, 0.5])\n",
        "\n",
        "# Fill Late based on Traffic\n",
        "data['Late'] = np.where(\n",
        "    data['Traffic'] == 0, np.random.choice([0, 1], size=data.shape[0], p=[0.95, 0.05]),\n",
        "    np.random.choice([0, 1], size=data.shape[0], p=[0.4, 0.6])\n",
        ")\n",
        "\n",
        "print(data.head())\n"
      ],
      "metadata": {
        "colab": {
          "base_uri": "https://localhost:8080/"
        },
        "id": "TLVHJkQOuEP0",
        "outputId": "f91f0333-e2f4-4867-b227-174750ccfb8d"
      },
      "execution_count": 9,
      "outputs": [
        {
          "output_type": "stream",
          "name": "stdout",
          "text": [
            "   Weather  Traffic  Late\n",
            "0        0      0.0     0\n",
            "1        0      0.0     0\n",
            "2        1      1.0     0\n",
            "3        1      1.0     1\n",
            "4        0      1.0     1\n"
          ]
        }
      ]
    },
    {
      "cell_type": "markdown",
      "source": [
        "# 2. Estimate the Parameters:\n",
        "• Use the dataset to estimate the CPDs for the Traffic and Late nodes."
      ],
      "metadata": {
        "id": "uimSoxyeue_z"
      }
    },
    {
      "cell_type": "code",
      "source": [
        "from pgmpy.models import BayesianNetwork\n",
        "from pgmpy.estimators import MaximumLikelihoodEstimator\n",
        "import pandas as pd\n",
        "\n",
        "# Create a Bayesian Model\n",
        "model = BayesianNetwork([('Weather', 'Traffic'), ('Traffic', 'Late')])\n",
        "\n",
        "# Assuming 'data' is a pandas DataFrame with columns 'Weather', 'Traffic', and 'Late'\n",
        "data = pd.DataFrame({\n",
        "    'Weather': ['Sunny', 'Rainy', 'Sunny', 'Sunny', 'Rainy'],\n",
        "    'Traffic': ['Heavy', 'Heavy', 'Light', 'Light', 'Heavy'],\n",
        "    'Late': ['Yes', 'Yes', 'No', 'No', 'Yes']\n",
        "})\n",
        "\n",
        "# Fit the model to the data using Maximum Likelihood Estimation\n",
        "model.fit(data, estimator=MaximumLikelihoodEstimator)\n",
        "\n",
        "# Check the estimated CPDs\n",
        "for cpd in model.get_cpds():\n",
        "    print(cpd)\n"
      ],
      "metadata": {
        "colab": {
          "base_uri": "https://localhost:8080/"
        },
        "id": "s8_6B_s2u0Kw",
        "outputId": "fed4a5c8-a965-4b71-a4bd-cb1bd4a3de24"
      },
      "execution_count": 11,
      "outputs": [
        {
          "output_type": "stream",
          "name": "stdout",
          "text": [
            "+----------------+-----+\n",
            "| Weather(Rainy) | 0.4 |\n",
            "+----------------+-----+\n",
            "| Weather(Sunny) | 0.6 |\n",
            "+----------------+-----+\n",
            "+----------------+----------------+--------------------+\n",
            "| Weather        | Weather(Rainy) | Weather(Sunny)     |\n",
            "+----------------+----------------+--------------------+\n",
            "| Traffic(Heavy) | 1.0            | 0.3333333333333333 |\n",
            "+----------------+----------------+--------------------+\n",
            "| Traffic(Light) | 0.0            | 0.6666666666666666 |\n",
            "+----------------+----------------+--------------------+\n",
            "+-----------+----------------+----------------+\n",
            "| Traffic   | Traffic(Heavy) | Traffic(Light) |\n",
            "+-----------+----------------+----------------+\n",
            "| Late(No)  | 0.0            | 1.0            |\n",
            "+-----------+----------------+----------------+\n",
            "| Late(Yes) | 1.0            | 0.0            |\n",
            "+-----------+----------------+----------------+\n"
          ]
        }
      ]
    },
    {
      "cell_type": "markdown",
      "source": [
        "# Exercise 5: Visualizing the Bayesian Network\n",
        "1. Visualize the Network Structure:\n",
        "o Use the networkx library to visualize the Bayesian Network."
      ],
      "metadata": {
        "id": "AzuXAv79u83f"
      }
    },
    {
      "cell_type": "code",
      "source": [
        "import matplotlib.pyplot as plt\n",
        "import networkx as nx\n",
        "from pgmpy.models import BayesianNetwork\n",
        "\n",
        "# Create a Bayesian Model\n",
        "model = BayesianNetwork([('Weather', 'Traffic'), ('Traffic', 'Late')])\n",
        "\n",
        "# Manually convert the Bayesian Network to a NetworkX graph\n",
        "nx_graph = nx.DiGraph()\n",
        "\n",
        "# Add nodes and edges from the Bayesian Network to the NetworkX graph\n",
        "nx_graph.add_nodes_from(model.nodes())\n",
        "nx_graph.add_edges_from(model.edges())\n",
        "\n",
        "# Draw the graph\n",
        "plt.figure(figsize=(8, 6))\n",
        "\n",
        "pos = nx.spring_layout(nx_graph)\n",
        "nx.draw(\n",
        "    nx_graph, pos, with_labels=True, node_color='lightblue', font_weight='bold', arrows=True\n",
        ")\n",
        "\n",
        "plt.title('Bayesian Network Structure')\n",
        "plt.show()\n"
      ],
      "metadata": {
        "colab": {
          "base_uri": "https://localhost:8080/",
          "height": 659
        },
        "id": "ZNz6GMbeu-Bz",
        "outputId": "b2979d84-b42a-487a-8cd1-94132e20aaae"
      },
      "execution_count": 14,
      "outputs": [
        {
          "output_type": "display_data",
          "data": {
            "text/plain": [
              "<Figure size 800x600 with 1 Axes>"
            ],
            "image/png": "[encoded data removed]"
          },
          "metadata": {}
        }
      ]
    }
  ]
}