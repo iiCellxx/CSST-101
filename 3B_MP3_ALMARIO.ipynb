{
  "nbformat": 4,
  "nbformat_minor": 0,
  "metadata": {
    "colab": {
      "provenance": []
    },
    "kernelspec": {
      "name": "python3",
      "display_name": "Python 3"
    },
    "language_info": {
      "name": "python"
    }
  },
  "cells": [
    {
      "cell_type": "markdown",
      "source": [
        "# Machine Problem: Interactive Probability and Decision-Making in AI"
      ],
      "metadata": {
        "id": "FOrwEl28AX_y"
      }
    },
    {
      "cell_type": "markdown",
      "source": [
        "# Part 1: Implement Basic Probability Calculations\n",
        "1. Joint Probability\n",
        "The joint probability of two independent events (A) and (B) is calculated as: [ P(A \\cap B) = P(A) \\times P(B) ]\n",
        "\n",
        "2. Marginal Probability\n",
        "The marginal probability of an event (A) can be found by summing over the joint probabilities of (A) with all possible events (B): [ P(A) = \\sum_{B} P(A \\cap B) ]\n",
        "\n",
        "3. Conditional Probability\n",
        "Using Bayes’ Theorem, the conditional probability of (A) given (B) is: [ P(A|B) = \\frac{P(B|A) \\times P(A)}{P(B)} ]\n",
        "\n",
        "Python Implementation\n",
        "Here’s a simple Python program to calculate these probabilities:"
      ],
      "metadata": {
        "id": "0opo2g5sAD5b"
      }
    },
    {
      "cell_type": "code",
      "execution_count": 1,
      "metadata": {
        "colab": {
          "base_uri": "https://localhost:8080/"
        },
        "id": "5xW1_yUC_ziI",
        "outputId": "26d4fef3-f487-47ac-e4f8-a5b5db22a1aa"
      },
      "outputs": [
        {
          "output_type": "stream",
          "name": "stdout",
          "text": [
            "Enter probability of event A: 100\n",
            "Enter probability of event B: 200\n",
            "Enter probability of B given A: 25 \n",
            "Joint Probability: 20000.0\n",
            "Marginal Probability: 2500.0\n",
            "Conditional Probability: 12.5\n"
          ]
        }
      ],
      "source": [
        "def joint_probability(p_a, p_b):\n",
        "    return p_a * p_b\n",
        "\n",
        "def marginal_probability(p_a, p_b_given_a):\n",
        "    return p_a * p_b_given_a\n",
        "\n",
        "def conditional_probability(p_b_given_a, p_a, p_b):\n",
        "    return (p_b_given_a * p_a) / p_b\n",
        "\n",
        "def main():\n",
        "    # Input probabilities\n",
        "    p_a = float(input(\"Enter probability of event A: \"))\n",
        "    p_b = float(input(\"Enter probability of event B: \"))\n",
        "    p_b_given_a = float(input(\"Enter probability of B given A: \"))\n",
        "\n",
        "    # Calculate probabilities\n",
        "    joint_prob = joint_probability(p_a, p_b)\n",
        "    marginal_prob = marginal_probability(p_a, p_b_given_a)\n",
        "    conditional_prob = conditional_probability(p_b_given_a, p_a, p_b)\n",
        "\n",
        "    # Display results\n",
        "    print(f\"Joint Probability: {joint_prob}\")\n",
        "    print(f\"Marginal Probability: {marginal_prob}\")\n",
        "    print(f\"Conditional Probability: {conditional_prob}\")\n",
        "\n",
        "if __name__ == \"__main__\":\n",
        "    main()\n"
      ]
    },
    {
      "cell_type": "markdown",
      "source": [
        "# Part2\n",
        "Bayesian Inference\n",
        "Bayes’ Theorem is used to update the probability estimate for a hypothesis as more evidence or information becomes available. The formula is:\n",
        "\n",
        "[ P(\\text{Disease} | \\text{Positive Test}) = \\frac{P(\\text{Positive Test} | \\text{Disease}) \\times P(\\text{Disease})}{P(\\text{Positive Test})} ]\n",
        "\n",
        "Where:\n",
        "\n",
        "( P(\\text{Disease} | \\text{Positive Test}) ) is the posterior probability (the probability of having the disease given a positive test result).\n",
        "( P(\\text{Positive Test} | \\text{Disease}) ) is the likelihood (the probability of a positive test result given the disease).\n",
        "( P(\\text{Disease}) ) is the prior probability (the initial probability of having the disease).\n",
        "( P(\\text{Positive Test}) ) is the marginal likelihood (the overall probability of a positive test result).\n",
        "Python Implementation\n",
        "Here’s a Python function to perform Bayesian inference:"
      ],
      "metadata": {
        "id": "FOvWN3h0AbiU"
      }
    },
    {
      "cell_type": "code",
      "source": [
        "def bayesian_inference(prior, likelihood, marginal):\n",
        "    return (likelihood * prior) / marginal\n",
        "\n",
        "def main():\n",
        "    # Input probabilities\n",
        "    prior = float(input(\"Enter the prior probability of disease: \"))\n",
        "    likelihood = float(input(\"Enter the likelihood of a positive test given disease: \"))\n",
        "    marginal = float(input(\"Enter the overall probability of a positive test: \"))\n",
        "\n",
        "    # Calculate posterior probability\n",
        "    posterior = bayesian_inference(prior, likelihood, marginal)\n",
        "\n",
        "    # Display result\n",
        "    print(f\"Posterior Probability of disease given positive test: {posterior}\")\n",
        "\n",
        "if __name__ == \"__main__\":\n",
        "    main()\n"
      ],
      "metadata": {
        "id": "1HnaU7RMAoCL"
      },
      "execution_count": 1,
      "outputs": []
    },
    {
      "cell_type": "markdown",
      "source": [
        "# Part3\n",
        "Simulate Decision-Making Under Uncertainty\n",
        "We’ll write a Python function that takes the probability of success, the reward for success, and the penalty for failure as inputs. The function will then simulate a specified number of trials and calculate the average return.\n",
        "\n",
        "Python Implementation\n",
        "Here’s a Python program to simulate this decision-making process:"
      ],
      "metadata": {
        "id": "Vsn1Fk4BA4fZ"
      }
    },
    {
      "cell_type": "code",
      "source": [
        "import random\n",
        "\n",
        "def simulate_decision(prob_success, reward, penalty, trials):\n",
        "    total_return = 0\n",
        "    for _ in range(trials):\n",
        "        if random.random() < prob_success:\n",
        "            total_return += reward\n",
        "        else:\n",
        "            total_return += penalty\n",
        "    average_return = total_return / trials\n",
        "    return average_return\n",
        "\n",
        "def main():\n",
        "    # Input parameters\n",
        "    prob_success = float(input(\"Enter the probability of success: \"))\n",
        "    reward = float(input(\"Enter the reward for success: \"))\n",
        "    penalty = float(input(\"Enter the penalty for failure: \"))\n",
        "    trials = int(input(\"Enter the number of trials: \"))\n",
        "\n",
        "    # Run simulation\n",
        "    average_return = simulate_decision(prob_success, reward, penalty, trials)\n",
        "\n",
        "    # Display result\n",
        "    print(f\"Simulating {trials} decisions...\")\n",
        "    print(f\"Average Return: {average_return}\")\n",
        "\n",
        "if __name__ == \"__main__\":\n",
        "    main()\n"
      ],
      "metadata": {
        "colab": {
          "base_uri": "https://localhost:8080/"
        },
        "id": "fbqNPFzaBOIr",
        "outputId": "0a9b8548-d4a6-412b-e057-1569a58a26a2"
      },
      "execution_count": 2,
      "outputs": [
        {
          "output_type": "stream",
          "name": "stdout",
          "text": [
            "Enter the probability of success: 100\n",
            "Enter the reward for success: 200\n",
            "Enter the penalty for failure: 25\n",
            "Enter the number of trials: 25\n",
            "Simulating 25 decisions...\n",
            "Average Return: 200.0\n"
          ]
        }
      ]
    },
    {
      "cell_type": "markdown",
      "source": [
        "# Interactive Component\n",
        "This program allows the user to input the probability of success, the reward amount, the penalty for failure, and the number of trials. It then runs the simulation and calculates the average return based on the inputs."
      ],
      "metadata": {
        "id": "_AUhBHoQBcsc"
      }
    },
    {
      "cell_type": "markdown",
      "source": [
        "# Part4\n",
        "Visualize Probability Distributions\n",
        "We’ll write a Python program that allows the user to choose between simulating a binomial distribution (e.g., coin flips) or a normal distribution (e.g., exam scores). Based on the user’s input, the program will generate the distribution and display a histogram.\n",
        "\n",
        "Python Implementation\n",
        "Here’s a Python program to achieve this:"
      ],
      "metadata": {
        "id": "C_mzX0eDBf4T"
      }
    },
    {
      "cell_type": "code",
      "source": [
        "import numpy as np\n",
        "import matplotlib.pyplot as plt\n",
        "\n",
        "def simulate_binomial(trials, prob_heads):\n",
        "    return np.random.binomial(1, prob_heads, trials)\n",
        "\n",
        "def simulate_normal(mean, std_dev, trials):\n",
        "    return np.random.normal(mean, std_dev, trials)\n",
        "\n",
        "def main():\n",
        "    print(\"Choose a distribution to simulate:\")\n",
        "    print(\"1. Binomial (Coin flips)\")\n",
        "    print(\"2. Normal (Exam scores)\")\n",
        "    choice = int(input(\"Enter your choice (1 or 2): \"))\n",
        "\n",
        "    trials = int(input(\"Enter the number of trials: \"))\n",
        "\n",
        "    if choice == 1:\n",
        "        prob_heads = float(input(\"Enter the probability of heads (for binomial): \"))\n",
        "        data = simulate_binomial(trials, prob_heads)\n",
        "        plt.hist(data, bins=2, edgecolor='black')\n",
        "        plt.title('Binomial Distribution (Coin Flips)')\n",
        "        plt.xlabel('Outcome')\n",
        "        plt.ylabel('Frequency')\n",
        "    elif choice == 2:\n",
        "        mean = float(input(\"Enter the mean (for normal distribution): \"))\n",
        "        std_dev = float(input(\"Enter the standard deviation (for normal distribution): \"))\n",
        "        data = simulate_normal(mean, std_dev, trials)\n",
        "        plt.hist(data, bins=30, edgecolor='black')\n",
        "        plt.title('Normal Distribution (Exam Scores)')\n",
        "        plt.xlabel('Value')\n",
        "        plt.ylabel('Frequency')\n",
        "    else:\n",
        "        print(\"Invalid choice. Please enter 1 or 2.\")\n",
        "        return\n",
        "\n",
        "    plt.show()\n",
        "\n",
        "if __name__ == \"__main__\":\n",
        "    main()\n"
      ],
      "metadata": {
        "colab": {
          "base_uri": "https://localhost:8080/",
          "height": 576
        },
        "id": "ElvpQM5gCE0R",
        "outputId": "a1472c45-8872-440e-c896-ada62fc4eed4"
      },
      "execution_count": 6,
      "outputs": [
        {
          "name": "stdout",
          "output_type": "stream",
          "text": [
            "Choose a distribution to simulate:\n",
            "1. Binomial (Coin flips)\n",
            "2. Normal (Exam scores)\n",
            "Enter your choice (1 or 2): 1\n",
            "Enter the number of trials: 1000\n",
            "Enter the probability of heads (for binomial): 0.5\n"
          ]
        },
        {
          "output_type": "display_data",
          "data": {
            "text/plain": [
              "<Figure size 640x480 with 1 Axes>"
            ],
            "image/png": "[encoded data removed]"
          },
          "metadata": {}
        }
      ]
    },
    {
      "cell_type": "markdown",
      "source": [
        "# Interactive Component\n",
        "This program prompts the user to choose between simulating a binomial distribution or a normal distribution. Based on the user’s input, it generates the appropriate distribution and displays a histogram using matplotlib.\n",
        "\n",
        "Example Interactive Output"
      ],
      "metadata": {
        "id": "R1gWLz4nCVLu"
      }
    },
    {
      "cell_type": "markdown",
      "source": [
        "Choose a distribution to simulate:\n",
        "1. Binomial (Coin flips)\n",
        "2. Normal (Exam scores)\n",
        "Enter your choice (1 or 2): 1\n",
        "Enter the number of trials: 1000\n",
        "Enter the probability of heads (for binomial): 0.5\n",
        "Generating histogram...\n"
      ],
      "metadata": {
        "id": "T2vYhmprCW-0"
      }
    }
  ]
}