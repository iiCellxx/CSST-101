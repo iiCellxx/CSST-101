{
  "nbformat": 4,
  "nbformat_minor": 0,
  "metadata": {
    "colab": {
      "provenance": []
    },
    "kernelspec": {
      "name": "python3",
      "display_name": "Python 3"
    },
    "language_info": {
      "name": "python"
    }
  },
  "cells": [
    {
      "cell_type": "markdown",
      "source": [
        "# Exercise 1: Introduction to Probability Theory in AI"
      ],
      "metadata": {
        "id": "7btYBXT95DDy"
      }
    },
    {
      "cell_type": "markdown",
      "source": [
        "Task 1: Basic Probability Calculations\n",
        "# Joint Probability\n",
        "The joint probability of two independent events A and B is calculated as: [ P(A \\cap B) = P(A) \\times P(B) ]\n",
        "\n",
        "Here’s a Python function to compute the joint probability:"
      ],
      "metadata": {
        "id": "rLORsLYK4gAO"
      }
    },
    {
      "cell_type": "code",
      "source": [
        "def joint_probability(p_A, p_B):\n",
        "    return p_A * p_B\n"
      ],
      "metadata": {
        "id": "v4J8x7w84lJq"
      },
      "execution_count": 2,
      "outputs": []
    },
    {
      "cell_type": "markdown",
      "source": [
        "# Marginal Probability\n",
        "The marginal probability of an event is the sum of the probabilities of all possible outcomes. For two events A and B, it can be calculated as: [ P(A \\cup B) = P(A) + P(B) - P(A \\cap B) ]\n",
        "\n",
        "Here’s a Python function to compute the marginal probability:"
      ],
      "metadata": {
        "id": "k87l7Zxj4nwk"
      }
    },
    {
      "cell_type": "code",
      "source": [
        "def marginal_probability(p_A, p_B):\n",
        "    return p_A + p_B - joint_probability(p_A, p_B)\n"
      ],
      "metadata": {
        "id": "hE_bUCxg4tLj"
      },
      "execution_count": 3,
      "outputs": []
    },
    {
      "cell_type": "markdown",
      "source": [
        "# Conditional Probability\n",
        "The conditional probability of event B given event A is calculated as: [ P(B|A) = \\frac{P(B \\cap A)}{P(A)} ] Rearranging this, we get: [ P(B \\cap A) = P(B|A) \\times P(A) ] And then: [ P(A|B) = \\frac{P(B|A) \\times P(A)}{P(B)} ]\n",
        "\n",
        "Here’s a Python function to compute the conditional probability:"
      ],
      "metadata": {
        "id": "AkGJmlRu4uAb"
      }
    },
    {
      "cell_type": "code",
      "source": [
        "def conditional_probability(p_B_given_A, p_A, p_B):\n",
        "    return (p_B_given_A * p_A) / p_B\n"
      ],
      "metadata": {
        "id": "IZKu7_eE4xvb"
      },
      "execution_count": 4,
      "outputs": []
    },
    {
      "cell_type": "markdown",
      "source": [
        "# Example Usage"
      ],
      "metadata": {
        "id": "S2jrpNK44zeD"
      }
    },
    {
      "cell_type": "code",
      "source": [
        "p_A = 0.3  # Probability of event A\n",
        "p_B = 0.4  # Probability of event B\n",
        "p_B_given_A = 0.8  # Conditional probability of B given A\n",
        "\n",
        "print(f\"Joint Probability : {joint_probability(p_A, p_B)}\")\n",
        "print(f\"Marginal Probability : {marginal_probability(p_A, p_B)}\")\n",
        "print(f\"Conditional Probability : {conditional_probability(p_B_given_A, p_A, p_B)}\")\n"
      ],
      "metadata": {
        "colab": {
          "base_uri": "https://localhost:8080/"
        },
        "id": "fhFU2Kin440C",
        "outputId": "64682b23-254c-43cd-a946-19e85fde164d"
      },
      "execution_count": 5,
      "outputs": [
        {
          "output_type": "stream",
          "name": "stdout",
          "text": [
            "Joint Probability : 0.12\n",
            "Marginal Probability : 0.58\n",
            "Conditional Probability : 0.6\n"
          ]
        }
      ]
    },
    {
      "cell_type": "markdown",
      "source": [
        "# Task 2: Interactive Question\n",
        "To answer the question about the joint probability of A and B assuming they are independent:"
      ],
      "metadata": {
        "id": "TTzU2SIi451B"
      }
    },
    {
      "cell_type": "code",
      "source": [
        "def joint_probability(p_A, p_B):\n",
        "    return p_A * p_B\n",
        "\n",
        "# Example usage:\n",
        "p_A = 0.3\n",
        "p_B = 0.4\n",
        "print(\"Joint Probability of A and B:\", joint_probability(p_A, p_B))\n"
      ],
      "metadata": {
        "colab": {
          "base_uri": "https://localhost:8080/"
        },
        "id": "RFezpt2c482S",
        "outputId": "405fe3d9-d8dc-40fc-ffb4-e618db16863d"
      },
      "execution_count": 6,
      "outputs": [
        {
          "output_type": "stream",
          "name": "stdout",
          "text": [
            "Joint Probability of A and B: 0.12\n"
          ]
        }
      ]
    },
    {
      "cell_type": "markdown",
      "source": [
        "# Task 3: Feedback\n",
        "If you run the code above, you should get the joint probability of A and B as 0.12. This is because: [ P(A \\cap B) = 0.3 \\times 0.4 = 0.12 ]"
      ],
      "metadata": {
        "id": "F_u-FULt4-_r"
      }
    },
    {
      "cell_type": "markdown",
      "source": [
        "# Exercise 2: Decision-Making Under Uncertainty"
      ],
      "metadata": {
        "id": "5j7Zrv4c5FdQ"
      }
    },
    {
      "cell_type": "code",
      "source": [
        "import numpy as np\n",
        "\n",
        "def simulate_decision(num_simulation, p_success, reward_success, reward_failure):\n",
        "    outcomes = []\n",
        "    for _ in range(num_simulations):\n",
        "      if np.random.rand() < p_success:\n",
        "        outcomes.append(reward_success)\n",
        "      else:\n",
        "        outcomes.append(reward_failure)\n",
        "    return np.mean(outcomes)\n",
        "\n",
        "# Example: Simulating 10000 decision attempts\n",
        "p_success  = 0.7 # Probability of success\n",
        "reward_success = 1000 # Reward for success\n",
        "reward_failure = -500 # Penalty for failure\n",
        "\n",
        "average_outcome = simulate_decision( 10000, p_success, reward_success, reward_failure)\n",
        "print(f\"Expected value of decision: {average_outcome}\"\n"
      ],
      "metadata": {
        "id": "5DnCkORL5LYe"
      },
      "execution_count": null,
      "outputs": []
    },
    {
      "cell_type": "markdown",
      "source": [
        "# Task 1: Simulate a Decision Process\n",
        "Simulate a Decision Process\n",
        "We’ll write a Python script to simulate a decision-making process where the outcomes are uncertain. We’ll model the probability of success and failure for a decision and calculate the expected value of making a particular decision.\n",
        "\n",
        "Here’s the Python script:"
      ],
      "metadata": {
        "id": "C6b6jn7_6oBi"
      }
    },
    {
      "cell_type": "code",
      "source": [
        "import numpy as np\n",
        "\n",
        "def simulate_decision(num_simulations, p_success, reward_success, reward_failure):\n",
        "    outcomes = []\n",
        "    for _ in range(num_simulations):\n",
        "        if np.random.rand() < p_success:\n",
        "            outcomes.append(reward_success)\n",
        "        else:\n",
        "            outcomes.append(reward_failure)\n",
        "    return np.mean(outcomes)\n",
        "\n",
        "# Example: Simulating 10000 decision attempts\n",
        "p_success = 0.7  # Probability of success\n",
        "reward_success = 1000  # Reward for success\n",
        "reward_failure = -500  # Penalty for failure\n",
        "\n",
        "average_outcome = simulate_decision(10000, p_success, reward_success, reward_failure)\n",
        "print(f\"Expected value of decision: {average_outcome}\")\n"
      ],
      "metadata": {
        "colab": {
          "base_uri": "https://localhost:8080/"
        },
        "id": "hN93Vavp6pV0",
        "outputId": "f9d86f3f-81c1-4b2a-a50b-b8a7fe2d4bc1"
      },
      "execution_count": 7,
      "outputs": [
        {
          "output_type": "stream",
          "name": "stdout",
          "text": [
            "Expected value of decision: 550.15\n"
          ]
        }
      ]
    },
    {
      "cell_type": "markdown",
      "source": [
        "# Task 2: Decision Tree Example\n",
        "Create a Decision Tree\n",
        "We’ll create a decision tree where each branch represents a different action and associated probabilities for outcomes (profit or loss). Let’s simulate a robot making decisions in an uncertain environment with probabilities for success and failure.\n",
        "\n",
        "Here’s an example using a simple decision tree:"
      ],
      "metadata": {
        "id": "JGbY0b_t6r8z"
      }
    },
    {
      "cell_type": "code",
      "source": [
        "class DecisionNode:\n",
        "    def __init__(self, name, probability, reward):\n",
        "        self.name = name\n",
        "        self.probability = probability\n",
        "        self.reward = reward\n",
        "        self.children = []\n",
        "\n",
        "    def add_child(self, child_node):\n",
        "        self.children.append(child_node)\n",
        "\n",
        "def expected_value(node):\n",
        "    if not node.children:\n",
        "        return node.probability * node.reward\n",
        "    return node.probability * sum(expected_value(child) for child in node.children)\n",
        "\n",
        "# Example decision tree\n",
        "root = DecisionNode(\"Start\", 1.0, 0)\n",
        "\n",
        "# Level 1\n",
        "success = DecisionNode(\"Success\", 0.7, 1000)\n",
        "failure = DecisionNode(\"Failure\", 0.3, -500)\n",
        "\n",
        "root.add_child(success)\n",
        "root.add_child(failure)\n",
        "\n",
        "# Calculate expected value\n",
        "ev = expected_value(root)\n",
        "print(f\"Expected value of decision tree: {ev}\")\n"
      ],
      "metadata": {
        "colab": {
          "base_uri": "https://localhost:8080/"
        },
        "id": "k31NHbCd6uwr",
        "outputId": "f5d68040-ac72-45ba-e805-c35e090f72d4"
      },
      "execution_count": 8,
      "outputs": [
        {
          "output_type": "stream",
          "name": "stdout",
          "text": [
            "Expected value of decision tree: 550.0\n"
          ]
        }
      ]
    },
    {
      "cell_type": "markdown",
      "source": [
        "# Assessment Task 2: Bayesian Inference\n",
        "Interactive Bayesian Model\n",
        "We’ll implement a Python function that performs Bayesian inference to update the probability of a hypothesis based on new evidence.\n",
        "\n",
        "Here’s the function:"
      ],
      "metadata": {
        "id": "dhFlIOMu6w56"
      }
    },
    {
      "cell_type": "code",
      "source": [
        "def bayesian_inference(p_disease, p_positive_given_disease, p_positive_given_no_disease):\n",
        "    p_no_disease = 1 - p_disease\n",
        "    p_positive = (p_positive_given_disease * p_disease) + (p_positive_given_no_disease * p_no_disease)\n",
        "    p_disease_given_positive = (p_positive_given_disease * p_disease) / p_positive\n",
        "    return p_disease_given_positive\n",
        "\n",
        "# Example usage\n",
        "p_disease = 0.01  # Probability of having the disease\n",
        "p_positive_given_disease = 0.9  # Probability of testing positive given the disease\n",
        "p_positive_given_no_disease = 0.05  # Probability of testing positive without the disease\n",
        "\n",
        "probability = bayesian_inference(p_disease, p_positive_given_disease, p_positive_given_no_disease)\n",
        "print(f\"Probability of having the disease given a positive test result: {probability}\")\n"
      ],
      "metadata": {
        "colab": {
          "base_uri": "https://localhost:8080/"
        },
        "id": "UQc8U0C561cM",
        "outputId": "f96d5228-6bab-4f6d-b5f5-10186f00c328"
      },
      "execution_count": 9,
      "outputs": [
        {
          "output_type": "stream",
          "name": "stdout",
          "text": [
            "Probability of having the disease given a positive test result: 0.15384615384615385\n"
          ]
        }
      ]
    },
    {
      "cell_type": "markdown",
      "source": [
        "# Interactive Scenario\n",
        "Given the scenario:\n",
        "\n",
        "A test for a disease has a 90% accuracy for positive results.\n",
        "5% of people without the disease test positive.\n",
        "1% of the population has the disease.\n",
        "Using the Bayesian inference function, we can compute the probability that someone who tested positive actually has the disease."
      ],
      "metadata": {
        "id": "ENtx1EhD66Qq"
      }
    },
    {
      "cell_type": "markdown",
      "source": [
        "# Exercise 3: Applying Probability Theory in AI for Diagnosis"
      ],
      "metadata": {
        "id": "pcD6VkUj7Q2W"
      }
    },
    {
      "cell_type": "markdown",
      "source": [
        "# Task 1: Medical Diagnosis Example\n",
        "We’ll use Bayes’ Theorem to model the probability of having a disease given a positive test result.\n",
        "\n",
        "Steps:\n",
        "Define the prior probabilities of having the disease.\n",
        "Define the likelihood of the test being positive given the presence or absence of the disease.\n",
        "Use Bayes’ Theorem to calculate the posterior probability of the disease given a positive test result.\n",
        "Here’s the Python code for this:"
      ],
      "metadata": {
        "id": "K_iqLOL471ID"
      }
    },
    {
      "cell_type": "code",
      "source": [
        "def bayesian_inference(p_disease, p_positive_given_disease, p_positive_given_no_disease):\n",
        "    p_no_disease = 1 - p_disease\n",
        "    p_positive = (p_positive_given_disease * p_disease) + (p_positive_given_no_disease * p_no_disease)\n",
        "    p_disease_given_positive = (p_positive_given_disease * p_disease) / p_positive\n",
        "    return p_disease_given_positive\n",
        "\n",
        "# Example usage\n",
        "p_disease = 0.01  # Probability of having the disease\n",
        "p_positive_given_disease = 0.9  # Probability of testing positive given the disease\n",
        "p_positive_given_no_disease = 0.05  # Probability of testing positive without the disease\n",
        "\n",
        "probability = bayesian_inference(p_disease, p_positive_given_disease, p_positive_given_no_disease)\n",
        "print(f\"Probability of having the disease given a positive test result: {probability:.4f}\")\n"
      ],
      "metadata": {
        "colab": {
          "base_uri": "https://localhost:8080/"
        },
        "id": "P27YF9Dk72SK",
        "outputId": "8826e472-3f25-4452-98c9-57c7c4e97ecd"
      },
      "execution_count": 10,
      "outputs": [
        {
          "output_type": "stream",
          "name": "stdout",
          "text": [
            "Probability of having the disease given a positive test result: 0.1538\n"
          ]
        }
      ]
    },
    {
      "cell_type": "markdown",
      "source": [
        "# Task 2: Decision-Making Under Uncertainty\n",
        "We’ll simulate a decision-making process where an AI system chooses between two investment options with uncertain outcomes.\n",
        "\n",
        "Steps:\n",
        "Implement a function that simulates the decision-making process for 1000 iterations.\n",
        "Adjust the probability of success or failure and simulate different outcomes.\n",
        "Here’s the Python code for this:"
      ],
      "metadata": {
        "id": "0A4QnSvH74Ny"
      }
    },
    {
      "cell_type": "code",
      "source": [
        "import random\n",
        "\n",
        "def simulate_investment(prob_success, reward, penalty, iterations=1000):\n",
        "    total_return = 0\n",
        "    for _ in range(iterations):\n",
        "        if random.random() < prob_success:\n",
        "            total_return += reward\n",
        "        else:\n",
        "            total_return += penalty\n",
        "    average_return = total_return / iterations\n",
        "    return average_return\n",
        "\n",
        "# Example usage\n",
        "prob_success = 0.7  # Probability of success\n",
        "reward = 1000  # Reward for success\n",
        "penalty = -500  # Penalty for failure\n",
        "\n",
        "average_return = simulate_investment(prob_success, reward, penalty)\n",
        "print(f\"Average return after 1000 iterations: ${average_return:.2f}\")\n"
      ],
      "metadata": {
        "colab": {
          "base_uri": "https://localhost:8080/"
        },
        "id": "-N2iNzO0764p",
        "outputId": "b5205aaf-aefc-48c9-f09d-dc4672f2ee2c"
      },
      "execution_count": 11,
      "outputs": [
        {
          "output_type": "stream",
          "name": "stdout",
          "text": [
            "Average return after 1000 iterations: $542.50\n"
          ]
        }
      ]
    },
    {
      "cell_type": "markdown",
      "source": [
        "# Questions:\n",
        "What is the average return after 1000 iterations?\n",
        "The average return will be calculated by the simulate_investment function.\n",
        "How does changing the probability affect the result?\n",
        "You can adjust the prob_success parameter in the simulate_investment function to see how different probabilities affect the average return."
      ],
      "metadata": {
        "id": "p9ewrIPp8ArY"
      }
    },
    {
      "cell_type": "markdown",
      "source": [
        "# Exercise 4: Probability Distribution in AI"
      ],
      "metadata": {
        "id": "KjUA7vlq8DMw"
      }
    },
    {
      "cell_type": "markdown",
      "source": [
        "# Task 1: Simulate Probability Distributions\n",
        "Let’s start by generating data from common probability distributions using numpy and scipy, and then visualize them using matplotlib.\n",
        "\n",
        "Simulating a Binomial Distribution (e.g., flipping a coin)"
      ],
      "metadata": {
        "id": "ByTJRlR78vcs"
      }
    },
    {
      "cell_type": "code",
      "source": [
        "import numpy as np\n",
        "import matplotlib.pyplot as plt\n",
        "\n",
        "# Parameters for the binomial distribution\n",
        "n_trials = 1000\n",
        "p_head = 0.5\n",
        "\n",
        "# Generate binomial distribution data\n",
        "binomial_distribution = np.random.binomial(n=1, p=p_head, size=n_trials)\n",
        "\n",
        "# Plotting the distribution\n",
        "plt.hist(binomial_distribution, bins=2, edgecolor='black')\n",
        "plt.title('Binomial Distribution (Coin Flips)')\n",
        "plt.xlabel('Outcome')\n",
        "plt.ylabel('Frequency')\n",
        "plt.xticks([0, 1], ['Tails', 'Heads'])\n",
        "plt.show()\n"
      ],
      "metadata": {
        "colab": {
          "base_uri": "https://localhost:8080/",
          "height": 472
        },
        "id": "3NrfY8nh8Xk-",
        "outputId": "04f97d47-2a39-42e7-f192-c5e8b2831b43"
      },
      "execution_count": 12,
      "outputs": [
        {
          "output_type": "display_data",
          "data": {
            "text/plain": [
              "<Figure size 640x480 with 1 Axes>"
            ],
            "image/png": "[encoded data removed]"
          },
          "metadata": {}
        }
      ]
    },
    {
      "cell_type": "markdown",
      "source": [
        "# Simulating a Normal Distribution"
      ],
      "metadata": {
        "id": "AwjVOYIN8yc9"
      }
    },
    {
      "cell_type": "code",
      "source": [
        "# Parameters for the normal distribution\n",
        "mean = 0\n",
        "std_dev = 1\n",
        "n_samples = 1000\n",
        "\n",
        "# Generate normal distribution data\n",
        "normal_distribution = np.random.normal(loc=mean, scale=std_dev, size=n_samples)\n",
        "\n",
        "# Plotting the distribution\n",
        "plt.hist(normal_distribution, bins=30, edgecolor='black')\n",
        "plt.title('Normal Distribution')\n",
        "plt.xlabel('Value')\n",
        "plt.ylabel('Frequency')\n",
        "plt.show()\n"
      ],
      "metadata": {
        "colab": {
          "base_uri": "https://localhost:8080/",
          "height": 472
        },
        "id": "Qphz6yrS80wz",
        "outputId": "cb0b68f1-746f-45be-a89e-89240da48d61"
      },
      "execution_count": 13,
      "outputs": [
        {
          "output_type": "display_data",
          "data": {
            "text/plain": [
              "<Figure size 640x480 with 1 Axes>"
            ],
            "image/png": "[encoded data removed]"
          },
          "metadata": {}
        }
      ]
    },
    {
      "cell_type": "markdown",
      "source": [
        "# Task 2: Real-World Scenario\n",
        "We’ll model a real-world scenario to predict whether it will rain based on factors like humidity and cloud cover using conditional probabilities.\n",
        "\n",
        "Steps:\n",
        "Define the conditional probabilities.\n",
        "Implement a Python script to predict the likelihood of rain given the evidence.\n",
        "Visualize the results.\n",
        "Here’s the Python code for this:"
      ],
      "metadata": {
        "id": "zOnDiFwL83Fz"
      }
    },
    {
      "cell_type": "code",
      "source": [
        "import numpy as np\n",
        "import matplotlib.pyplot as plt\n",
        "\n",
        "# Conditional probabilities\n",
        "p_rain = 0.3  # Prior probability of rain\n",
        "p_humidity_given_rain = 0.8\n",
        "p_humidity_given_no_rain = 0.3\n",
        "p_cloud_cover_given_rain = 0.7\n",
        "p_cloud_cover_given_no_rain = 0.2\n",
        "\n",
        "def conditional_probability(p_rain, p_humidity_given_rain, p_humidity_given_no_rain, p_cloud_cover_given_rain, p_cloud_cover_given_no_rain, humidity, cloud_cover):\n",
        "    p_no_rain = 1 - p_rain\n",
        "    p_humidity = (p_humidity_given_rain * p_rain) + (p_humidity_given_no_rain * p_no_rain)\n",
        "    p_cloud_cover = (p_cloud_cover_given_rain * p_rain) + (p_cloud_cover_given_no_rain * p_no_rain)\n",
        "\n",
        "    p_rain_given_humidity = (p_humidity_given_rain * p_rain) / p_humidity\n",
        "    p_rain_given_cloud_cover = (p_cloud_cover_given_rain * p_rain) / p_cloud_cover\n",
        "\n",
        "    p_rain_given_evidence = p_rain_given_humidity * p_rain_given_cloud_cover\n",
        "    return p_rain_given_evidence\n",
        "\n",
        "# Example usage\n",
        "humidity = True\n",
        "cloud_cover = True\n",
        "\n",
        "probability_of_rain = conditional_probability(p_rain, p_humidity_given_rain, p_humidity_given_no_rain, p_cloud_cover_given_rain, p_cloud_cover_given_no_rain, humidity, cloud_cover)\n",
        "print(f\"Probability of rain given humidity and cloud cover: {probability_of_rain:.4f}\")\n",
        "\n",
        "# Visualizing the results\n",
        "conditions = ['Humidity & Cloud Cover', 'No Humidity & No Cloud Cover']\n",
        "probabilities = [probability_of_rain, 1 - probability_of_rain]\n",
        "\n",
        "plt.bar(conditions, probabilities, color=['blue', 'orange'])\n",
        "plt.title('Probability of Rain Given Conditions')\n",
        "plt.ylabel('Probability')\n",
        "plt.show()\n"
      ],
      "metadata": {
        "colab": {
          "base_uri": "https://localhost:8080/",
          "height": 469
        },
        "id": "-9XxQcog85j6",
        "outputId": "53dd6136-96d3-4464-cf14-675aa0a4fa9c"
      },
      "execution_count": 14,
      "outputs": [
        {
          "output_type": "stream",
          "name": "stdout",
          "text": [
            "Probability of rain given humidity and cloud cover: 0.3200\n"
          ]
        },
        {
          "output_type": "display_data",
          "data": {
            "text/plain": [
              "<Figure size 640x480 with 1 Axes>"
            ],
            "image/png": "[encoded data removed]"
          },
          "metadata": {}
        }
      ]
    },
    {
      "cell_type": "markdown",
      "source": [
        "# Exercise 5: Real-World Application of Probability in AI"
      ],
      "metadata": {
        "id": "FojT4Hh_87uq"
      }
    },
    {
      "cell_type": "markdown",
      "source": [
        "# Task 1: Customer Behavior Prediction\n",
        "Let’s predict the probability that a customer will make a purchase based on previous behavior using conditional probability.\n",
        "\n",
        "Steps:\n",
        "Define probabilities for different user actions.\n",
        "Use conditional probability to predict the likelihood of a purchase given that a customer added an item to their cart.\n",
        "Here’s the Python code for this:"
      ],
      "metadata": {
        "id": "nsoisuSG9AAo"
      }
    },
    {
      "cell_type": "code",
      "source": [
        "def conditional_probability(p_purchase_given_cart, p_cart):\n",
        "    p_purchase = p_purchase_given_cart * p_cart\n",
        "    return p_purchase\n",
        "\n",
        "# Example probabilities based on observed customer behavior\n",
        "p_purchase_given_cart = 0.64  # Conditional probability of purchase given an item in the cart\n",
        "p_cart = 0.83  # Probability of adding an item to the cart\n",
        "\n",
        "# Calculating the probability of a customer making a purchase\n",
        "p_purchase = conditional_probability(p_purchase_given_cart, p_cart)\n",
        "print(f\"Probability of purchase: {p_purchase:.4f}\")\n"
      ],
      "metadata": {
        "colab": {
          "base_uri": "https://localhost:8080/"
        },
        "id": "MoLuuwVs98sr",
        "outputId": "798e232d-eede-4078-993e-ae9fd43b654e"
      },
      "execution_count": 18,
      "outputs": [
        {
          "output_type": "stream",
          "name": "stdout",
          "text": [
            "Probability of purchase: 0.5312\n"
          ]
        }
      ]
    },
    {
      "cell_type": "markdown",
      "source": [
        "# Task 2: Probability Distributions Visualization\n",
        "We’ll generate and visualize binomial and normal probability distributions using Python.\n",
        "\n",
        "Simulating 1000 Coin Flips Using a Binomial Distribution"
      ],
      "metadata": {
        "id": "rqMKpkiY9-gg"
      }
    },
    {
      "cell_type": "code",
      "source": [
        "import numpy as np\n",
        "import matplotlib.pyplot as plt\n",
        "\n",
        "# Parameters for the binomial distribution\n",
        "n_trials = 1000\n",
        "p_head = 0.5\n",
        "\n",
        "# Generate binomial distribution data\n",
        "binomial_distribution = np.random.binomial(n=1, p=p_head, size=n_trials)\n",
        "\n",
        "# Plotting the distribution\n",
        "plt.hist(binomial_distribution, bins=2, edgecolor='black')\n",
        "plt.title('Binomial Distribution (Coin Flips)')\n",
        "plt.xlabel('Outcome')\n",
        "plt.ylabel('Frequency')\n",
        "plt.xticks([0, 1], ['Tails', 'Heads'])\n",
        "plt.show()\n"
      ],
      "metadata": {
        "colab": {
          "base_uri": "https://localhost:8080/",
          "height": 472
        },
        "id": "VyA_wzVi-Byo",
        "outputId": "e8462b17-cb45-44fa-a411-8d062b67cea3"
      },
      "execution_count": 16,
      "outputs": [
        {
          "output_type": "display_data",
          "data": {
            "text/plain": [
              "<Figure size 640x480 with 1 Axes>"
            ],
            "image/png": "[encoded data removed]"
          },
          "metadata": {}
        }
      ]
    },
    {
      "cell_type": "markdown",
      "source": [
        "# Simulating a Normal Distribution"
      ],
      "metadata": {
        "id": "wSh7oi-j-DnQ"
      }
    },
    {
      "cell_type": "code",
      "source": [
        "# Parameters for the normal distribution\n",
        "mean = 0\n",
        "std_dev = 1\n",
        "n_samples = 1000\n",
        "\n",
        "# Generate normal distribution data\n",
        "normal_distribution = np.random.normal(loc=mean, scale=std_dev, size=n_samples)\n",
        "\n",
        "# Plotting the distribution\n",
        "plt.hist(normal_distribution, bins=30, edgecolor='black')\n",
        "plt.title('Normal Distribution')\n",
        "plt.xlabel('Value')\n",
        "plt.ylabel('Frequency')\n",
        "plt.show()\n"
      ],
      "metadata": {
        "colab": {
          "base_uri": "https://localhost:8080/",
          "height": 472
        },
        "id": "973nBNdI-F9n",
        "outputId": "3afec139-9bae-4240-a162-f15a77df883f"
      },
      "execution_count": 19,
      "outputs": [
        {
          "output_type": "display_data",
          "data": {
            "text/plain": [
              "<Figure size 640x480 with 1 Axes>"
            ],
            "image/png": "[encoded data removed]"
          },
          "metadata": {}
        }
      ]
    },
    {
      "cell_type": "markdown",
      "source": [
        "# Interactive Question:\n",
        "How does increasing the number of trials or changing the probability of heads affect the distribution?\n",
        "Increasing the number of trials will make the binomial distribution more closely resemble a normal distribution due to the Central Limit Theorem.\n",
        "Changing the probability of heads will shift the distribution towards more heads or more tails, depending on the probability value."
      ],
      "metadata": {
        "id": "0wEPll9P-KQX"
      }
    }
  ]
}